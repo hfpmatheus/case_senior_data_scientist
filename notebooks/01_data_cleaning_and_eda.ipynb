{
 "cells": [
  {
   "cell_type": "markdown",
   "metadata": {},
   "source": [
    "# 1.0 Imports e Leitura dos Dados\n",
    "\n",
    "Nesta seção eu concentro todos as importações de bibliotecas, leitura de dados e funções auxiliares que serão utilizadas repetidas vezes no restante do código. O objetivo dela é organização."
   ]
  },
  {
   "cell_type": "code",
   "execution_count": 201,
   "metadata": {},
   "outputs": [
    {
     "data": {
      "text/plain": [
       "True"
      ]
     },
     "execution_count": 201,
     "metadata": {},
     "output_type": "execute_result"
    }
   ],
   "source": [
    "import os\n",
    "\n",
    "import pandas as pd\n",
    "import seaborn as sns\n",
    "import matplotlib.pyplot as plt\n",
    "\n",
    "from dotenv import load_dotenv\n",
    "from sqlalchemy import create_engine\n",
    "\n",
    "# Carregando Variáveis de Ambiente\n",
    "load_dotenv()"
   ]
  },
  {
   "cell_type": "code",
   "execution_count": 202,
   "metadata": {},
   "outputs": [],
   "source": [
    "DB_USER = os.getenv(\"DB_USER\")\n",
    "DB_HOST = os.getenv(\"DB_HOST\")\n",
    "DB_PORT = os.getenv(\"DB_PORT\")\n",
    "DB_PASSWORD = os.getenv(\"DB_PASSWORD\")\n",
    "DB_DATABASE = os.getenv(\"DB_DATABASE\")\n",
    "\n",
    "engine = create_engine(f\"mysql+pymysql://{DB_USER}:{DB_PASSWORD}@{DB_HOST}:{DB_PORT}/{DB_DATABASE}\")"
   ]
  },
  {
   "cell_type": "markdown",
   "metadata": {},
   "source": [
    "## 1.1 Leitura dos Dados"
   ]
  },
  {
   "cell_type": "code",
   "execution_count": 203,
   "metadata": {},
   "outputs": [],
   "source": [
    "# Gosto de usar o gerenciador de recursos ( with ) para interação com bancos de dados via código por simplificar o uso das conexões - ele executa um .close() automático, à título de exemplo.\n",
    "with engine.connect() as connection:\n",
    "    df_daumau = pd.read_sql(\n",
    "        sql = \"SELECT * FROM case_data_scientist.daumau\",\n",
    "        con = connection\n",
    "    )\n",
    "    df_desinstalacoes = pd.read_sql(\n",
    "        sql = \"SELECT * FROM case_data_scientist.desinstalacoes\",\n",
    "        con = connection\n",
    "    )\n",
    "    df_instalacoes = pd.read_sql(\n",
    "        sql = \"SELECT * FROM case_data_scientist.installs\",\n",
    "        con = connection\n",
    "    )\n",
    "    df_reviews = pd.read_sql(\n",
    "        sql = \"SELECT * FROM case_data_scientist.ratings_reviews\",\n",
    "        con = connection\n",
    "    )"
   ]
  },
  {
   "cell_type": "markdown",
   "metadata": {},
   "source": [
    "## 1.2 Funções Auxiliares"
   ]
  },
  {
   "cell_type": "code",
   "execution_count": 204,
   "metadata": {},
   "outputs": [],
   "source": [
    "# Função cujo output é um report completo das linhas duplicadas no DataFrame, inclusive analisando coluna por coluna\n",
    "def duplicated_report(df: pd.DataFrame):\n",
    "    numero_duplicados_dataframe_inteiro = df.duplicated().sum()\n",
    "\n",
    "    if numero_duplicados_dataframe_inteiro > 0:\n",
    "        print(f'O DataFrame inteiro apresenta {numero_duplicados_dataframe_inteiro} registros completamente duplicados (linhas repetidas)!')\n",
    "    else:\n",
    "        print('O DataFrame inteiro não apresenta nenhum registro duplicado.')\n",
    "        \n",
    "    print('\\n')\n",
    "\n",
    "    for col in df.columns:\n",
    "        numero_duplicados_coluna = df[col].duplicated().sum()\n",
    "\n",
    "        if numero_duplicados_coluna > 0:\n",
    "            print(f'A coluna {col} apresenta {numero_duplicados_coluna} registros duplicados!')\n",
    "            print('\\n')\n",
    "\n",
    "# Função para gerar as estatísticas descritivas de colunas numéricas com formato legível\n",
    "def estatistica_descritiva(df: pd.DataFrame, column: str):\n",
    "    summary = df[column].describe().apply(lambda x: f\"{x:,.2f}\")\n",
    "    print(summary)"
   ]
  },
  {
   "cell_type": "markdown",
   "metadata": {},
   "source": [
    "# 2.0 Entendimento dos Dados\n",
    "\n",
    "Nessa etapa busco uma visão geral do dataset que será utilizado. Os objetivos são entender os formatos de cada tabela, quantidade de linhas, de colunas, tipagem dos dados, dados nulos e duplicados."
   ]
  },
  {
   "cell_type": "markdown",
   "metadata": {},
   "source": [
    "## 2.1 DataFrame DAUMAU (Daily Active Users & Monthly Active Users)"
   ]
  },
  {
   "cell_type": "markdown",
   "metadata": {},
   "source": [
    "**Visualização rápida das primeiras linhas da base.**\n",
    "\n",
    "Aqui busco entender como o dataset se parece e que tipos de informação podemos encontrar dentro dele.\n",
    "\n",
    "Já entendo parte da base:\n",
    "\n",
    "- **dauReal** (daily active users real): quantidade de usuários ativos no dia\n",
    "- **mauReal** (monthly active users real): quantidade de usuários ativos no mês\n",
    "- **date**: data referente a este registro de usuários ativos\n",
    "- **appId**: provavelmente a chave primária das 4 tabelas"
   ]
  },
  {
   "cell_type": "code",
   "execution_count": 205,
   "metadata": {},
   "outputs": [
    {
     "data": {
      "text/html": [
       "<div>\n",
       "<style scoped>\n",
       "    .dataframe tbody tr th:only-of-type {\n",
       "        vertical-align: middle;\n",
       "    }\n",
       "\n",
       "    .dataframe tbody tr th {\n",
       "        vertical-align: top;\n",
       "    }\n",
       "\n",
       "    .dataframe thead th {\n",
       "        text-align: right;\n",
       "    }\n",
       "</style>\n",
       "<table border=\"1\" class=\"dataframe\">\n",
       "  <thead>\n",
       "    <tr style=\"text-align: right;\">\n",
       "      <th></th>\n",
       "      <th>appId</th>\n",
       "      <th>date</th>\n",
       "      <th>dauReal</th>\n",
       "      <th>mauReal</th>\n",
       "    </tr>\n",
       "  </thead>\n",
       "  <tbody>\n",
       "    <tr>\n",
       "      <th>0</th>\n",
       "      <td>com.app.33540</td>\n",
       "      <td>2024-01-01</td>\n",
       "      <td>393961.0</td>\n",
       "      <td>3643110.0</td>\n",
       "    </tr>\n",
       "    <tr>\n",
       "      <th>1</th>\n",
       "      <td>com.app.33540</td>\n",
       "      <td>2024-01-02</td>\n",
       "      <td>800448.0</td>\n",
       "      <td>3643040.0</td>\n",
       "    </tr>\n",
       "    <tr>\n",
       "      <th>2</th>\n",
       "      <td>com.app.31679</td>\n",
       "      <td>2024-01-01</td>\n",
       "      <td>157532.0</td>\n",
       "      <td>1349262.0</td>\n",
       "    </tr>\n",
       "    <tr>\n",
       "      <th>3</th>\n",
       "      <td>com.app.31679</td>\n",
       "      <td>2024-01-02</td>\n",
       "      <td>313847.0</td>\n",
       "      <td>1349317.0</td>\n",
       "    </tr>\n",
       "    <tr>\n",
       "      <th>4</th>\n",
       "      <td>com.app.77385</td>\n",
       "      <td>2024-01-01</td>\n",
       "      <td>239768.0</td>\n",
       "      <td>1934660.0</td>\n",
       "    </tr>\n",
       "  </tbody>\n",
       "</table>\n",
       "</div>"
      ],
      "text/plain": [
       "           appId        date   dauReal    mauReal\n",
       "0  com.app.33540  2024-01-01  393961.0  3643110.0\n",
       "1  com.app.33540  2024-01-02  800448.0  3643040.0\n",
       "2  com.app.31679  2024-01-01  157532.0  1349262.0\n",
       "3  com.app.31679  2024-01-02  313847.0  1349317.0\n",
       "4  com.app.77385  2024-01-01  239768.0  1934660.0"
      ]
     },
     "execution_count": 205,
     "metadata": {},
     "output_type": "execute_result"
    }
   ],
   "source": [
    "df_daumau.head()"
   ]
  },
  {
   "cell_type": "markdown",
   "metadata": {},
   "source": [
    "**Checar tipos de dados.**\n",
    "\n",
    "Meu principal objetivo nessa parte é entender se a tipagem das colunas está correta para dar continuidade na Análise Exploratória.\n",
    "\n",
    "Nesse caso, pude verificar que a coluna **date** não estava como date, o que não me permitiria fazer algum tipo de ordenação e checar máximos e mínimos na análise posterior, por isso a correção foi feita."
   ]
  },
  {
   "cell_type": "code",
   "execution_count": 206,
   "metadata": {},
   "outputs": [
    {
     "data": {
      "text/plain": [
       "appId       object\n",
       "date        object\n",
       "dauReal    float64\n",
       "mauReal    float64\n",
       "dtype: object"
      ]
     },
     "execution_count": 206,
     "metadata": {},
     "output_type": "execute_result"
    }
   ],
   "source": [
    "df_daumau.dtypes"
   ]
  },
  {
   "cell_type": "code",
   "execution_count": 207,
   "metadata": {},
   "outputs": [],
   "source": [
    "df_daumau[\"date\"] = pd.to_datetime(df_daumau[\"date\"])"
   ]
  },
  {
   "cell_type": "markdown",
   "metadata": {},
   "source": [
    "**Checar tamanho da base (linhas x colunas)**\n",
    "\n",
    "Entendo qual é a dimensão dos dados que estou trabalhando."
   ]
  },
  {
   "cell_type": "code",
   "execution_count": 208,
   "metadata": {},
   "outputs": [
    {
     "data": {
      "text/plain": [
       "(41299, 4)"
      ]
     },
     "execution_count": 208,
     "metadata": {},
     "output_type": "execute_result"
    }
   ],
   "source": [
    "df_daumau.shape"
   ]
  },
  {
   "cell_type": "markdown",
   "metadata": {},
   "source": [
    "**Checar possíveis dados duplicados**\n",
    "\n",
    "Nesta parte, a única coisa anormal me parece ser os 153 registros totalmente duplicados (appId, date, dauReal e mauReal), para resolver isso faço um .drop_duplicates().\n",
    "\n",
    "As colunas isoladamente fazem sentido terem valores duplicados."
   ]
  },
  {
   "cell_type": "code",
   "execution_count": 209,
   "metadata": {},
   "outputs": [
    {
     "name": "stdout",
     "output_type": "stream",
     "text": [
      "O DataFrame inteiro apresenta 153 registros completamente duplicados (linhas repetidas)!\n",
      "\n",
      "\n",
      "A coluna appId apresenta 41103 registros duplicados!\n",
      "\n",
      "\n",
      "A coluna date apresenta 40951 registros duplicados!\n",
      "\n",
      "\n",
      "A coluna dauReal apresenta 9260 registros duplicados!\n",
      "\n",
      "\n",
      "A coluna mauReal apresenta 2717 registros duplicados!\n",
      "\n",
      "\n"
     ]
    }
   ],
   "source": [
    "duplicated_report(df_daumau)"
   ]
  },
  {
   "cell_type": "code",
   "execution_count": 210,
   "metadata": {},
   "outputs": [],
   "source": [
    "df_daumau = df_daumau.drop_duplicates()"
   ]
  },
  {
   "cell_type": "markdown",
   "metadata": {},
   "source": [
    "**Checar dados nulos**\n",
    "\n",
    "Alguns valores nulos apareceram no DataFrame, e adotei algumas premissas para tratá-los.\n",
    "\n",
    "- **appId**: é a chave primária e não conseguimos juntar linhas com o id nulo com nenhuma outra tabela, e como são poucos registros, decidi eliminá-los.\n",
    "- **dauReal**: substitui por 0 os valores nulos em Daily Active Users que tem Monthly Active Users preenchidos, presumindo que simplesmente não teve nenhum acesso no app naquela data.\n",
    "- **mauReal**: eliminei as linhas com Monthly Active Users nulos pois parece que todas pertecen a um só appId (com.app.90128) e todos os registros pra esse app estão com essas linhas nulas."
   ]
  },
  {
   "cell_type": "code",
   "execution_count": 211,
   "metadata": {},
   "outputs": [
    {
     "data": {
      "text/plain": [
       "appId       28\n",
       "date         0\n",
       "dauReal    194\n",
       "mauReal     20\n",
       "dtype: int64"
      ]
     },
     "execution_count": 211,
     "metadata": {},
     "output_type": "execute_result"
    }
   ],
   "source": [
    "df_daumau.isna().sum()"
   ]
  },
  {
   "cell_type": "code",
   "execution_count": 212,
   "metadata": {},
   "outputs": [],
   "source": [
    "df_daumau = df_daumau.dropna(subset=['appId','mauReal'], how='any')\n",
    "\n",
    "df_daumau['dauReal'] = df_daumau['dauReal'].fillna(0)"
   ]
  },
  {
   "cell_type": "markdown",
   "metadata": {},
   "source": [
    "## 2.2 DataFrame Desinstalações"
   ]
  },
  {
   "cell_type": "markdown",
   "metadata": {},
   "source": [
    "**Visualização rápida das primeiras linhas da base.**\n",
    "\n",
    "\n",
    "- **country** país do app\n",
    "- **lang** linguagem do país do app\n",
    "- **predictionLoss**:"
   ]
  },
  {
   "cell_type": "code",
   "execution_count": 213,
   "metadata": {},
   "outputs": [
    {
     "data": {
      "text/html": [
       "<div>\n",
       "<style scoped>\n",
       "    .dataframe tbody tr th:only-of-type {\n",
       "        vertical-align: middle;\n",
       "    }\n",
       "\n",
       "    .dataframe tbody tr th {\n",
       "        vertical-align: top;\n",
       "    }\n",
       "\n",
       "    .dataframe thead th {\n",
       "        text-align: right;\n",
       "    }\n",
       "</style>\n",
       "<table border=\"1\" class=\"dataframe\">\n",
       "  <thead>\n",
       "    <tr style=\"text-align: right;\">\n",
       "      <th></th>\n",
       "      <th>appId</th>\n",
       "      <th>date</th>\n",
       "      <th>country</th>\n",
       "      <th>lang</th>\n",
       "      <th>predictionLoss</th>\n",
       "    </tr>\n",
       "  </thead>\n",
       "  <tbody>\n",
       "    <tr>\n",
       "      <th>0</th>\n",
       "      <td>com.app.71740</td>\n",
       "      <td>2024-01-01</td>\n",
       "      <td>br</td>\n",
       "      <td>pt</td>\n",
       "      <td>1463</td>\n",
       "    </tr>\n",
       "    <tr>\n",
       "      <th>1</th>\n",
       "      <td>com.app.33540</td>\n",
       "      <td>2024-01-01</td>\n",
       "      <td>br</td>\n",
       "      <td>pt</td>\n",
       "      <td>8170</td>\n",
       "    </tr>\n",
       "    <tr>\n",
       "      <th>2</th>\n",
       "      <td>com.app.19544</td>\n",
       "      <td>2024-01-01</td>\n",
       "      <td>br</td>\n",
       "      <td>pt</td>\n",
       "      <td>77048</td>\n",
       "    </tr>\n",
       "    <tr>\n",
       "      <th>3</th>\n",
       "      <td>com.app.77385</td>\n",
       "      <td>2024-01-01</td>\n",
       "      <td>br</td>\n",
       "      <td>pt</td>\n",
       "      <td>4497</td>\n",
       "    </tr>\n",
       "    <tr>\n",
       "      <th>4</th>\n",
       "      <td>com.app.31679</td>\n",
       "      <td>2024-01-01</td>\n",
       "      <td>br</td>\n",
       "      <td>pt</td>\n",
       "      <td>4287</td>\n",
       "    </tr>\n",
       "  </tbody>\n",
       "</table>\n",
       "</div>"
      ],
      "text/plain": [
       "           appId       date country lang  predictionLoss\n",
       "0  com.app.71740 2024-01-01      br   pt            1463\n",
       "1  com.app.33540 2024-01-01      br   pt            8170\n",
       "2  com.app.19544 2024-01-01      br   pt           77048\n",
       "3  com.app.77385 2024-01-01      br   pt            4497\n",
       "4  com.app.31679 2024-01-01      br   pt            4287"
      ]
     },
     "execution_count": 213,
     "metadata": {},
     "output_type": "execute_result"
    }
   ],
   "source": [
    "df_desinstalacoes.head()"
   ]
  },
  {
   "cell_type": "markdown",
   "metadata": {},
   "source": [
    "**Checar tipos de dados.**\n",
    "\n",
    "Tudo certo aqui."
   ]
  },
  {
   "cell_type": "code",
   "execution_count": 214,
   "metadata": {},
   "outputs": [
    {
     "data": {
      "text/plain": [
       "appId                     object\n",
       "date              datetime64[ns]\n",
       "country                   object\n",
       "lang                      object\n",
       "predictionLoss             int64\n",
       "dtype: object"
      ]
     },
     "execution_count": 214,
     "metadata": {},
     "output_type": "execute_result"
    }
   ],
   "source": [
    "df_desinstalacoes.dtypes"
   ]
  },
  {
   "cell_type": "markdown",
   "metadata": {},
   "source": [
    "**Checar tamanho da base (linhas x colunas)**"
   ]
  },
  {
   "cell_type": "code",
   "execution_count": 215,
   "metadata": {},
   "outputs": [
    {
     "data": {
      "text/plain": [
       "(53188, 5)"
      ]
     },
     "execution_count": 215,
     "metadata": {},
     "output_type": "execute_result"
    }
   ],
   "source": [
    "df_desinstalacoes.shape"
   ]
  },
  {
   "cell_type": "markdown",
   "metadata": {},
   "source": [
    "**Checar possíveis dados duplicados**\n",
    "\n",
    "Nada anormal, nenhum registro inteiro duplicados, e todas as colunas isoladamente fazem sentido terem valores duplicados."
   ]
  },
  {
   "cell_type": "code",
   "execution_count": 216,
   "metadata": {},
   "outputs": [
    {
     "name": "stdout",
     "output_type": "stream",
     "text": [
      "O DataFrame inteiro não apresenta nenhum registro duplicado.\n",
      "\n",
      "\n",
      "A coluna appId apresenta 52993 registros duplicados!\n",
      "\n",
      "\n",
      "A coluna date apresenta 52907 registros duplicados!\n",
      "\n",
      "\n",
      "A coluna country apresenta 53187 registros duplicados!\n",
      "\n",
      "\n",
      "A coluna lang apresenta 53187 registros duplicados!\n",
      "\n",
      "\n",
      "A coluna predictionLoss apresenta 34777 registros duplicados!\n",
      "\n",
      "\n"
     ]
    }
   ],
   "source": [
    "duplicated_report(df_desinstalacoes)"
   ]
  },
  {
   "cell_type": "markdown",
   "metadata": {},
   "source": [
    "**Checar dados nulos**"
   ]
  },
  {
   "cell_type": "code",
   "execution_count": 217,
   "metadata": {},
   "outputs": [
    {
     "data": {
      "text/plain": [
       "appId             0\n",
       "date              0\n",
       "country           0\n",
       "lang              0\n",
       "predictionLoss    0\n",
       "dtype: int64"
      ]
     },
     "execution_count": 217,
     "metadata": {},
     "output_type": "execute_result"
    }
   ],
   "source": [
    "df_desinstalacoes.isna().sum()"
   ]
  },
  {
   "cell_type": "markdown",
   "metadata": {},
   "source": [
    "## 2.3 DataFrame Instalações"
   ]
  },
  {
   "cell_type": "markdown",
   "metadata": {},
   "source": [
    "**Visualização rápida das primeiras linhas da base.**\n",
    "\n",
    "- **newinstalls** (Novas Intalações): número de usuários que instalaram o app naquela data."
   ]
  },
  {
   "cell_type": "code",
   "execution_count": 218,
   "metadata": {},
   "outputs": [
    {
     "data": {
      "text/html": [
       "<div>\n",
       "<style scoped>\n",
       "    .dataframe tbody tr th:only-of-type {\n",
       "        vertical-align: middle;\n",
       "    }\n",
       "\n",
       "    .dataframe tbody tr th {\n",
       "        vertical-align: top;\n",
       "    }\n",
       "\n",
       "    .dataframe thead th {\n",
       "        text-align: right;\n",
       "    }\n",
       "</style>\n",
       "<table border=\"1\" class=\"dataframe\">\n",
       "  <thead>\n",
       "    <tr style=\"text-align: right;\">\n",
       "      <th></th>\n",
       "      <th>appid</th>\n",
       "      <th>date</th>\n",
       "      <th>newinstalls</th>\n",
       "    </tr>\n",
       "  </thead>\n",
       "  <tbody>\n",
       "    <tr>\n",
       "      <th>0</th>\n",
       "      <td>com.app.86367</td>\n",
       "      <td>2024-01-01</td>\n",
       "      <td>1968</td>\n",
       "    </tr>\n",
       "    <tr>\n",
       "      <th>1</th>\n",
       "      <td>com.app.18711</td>\n",
       "      <td>2024-01-01</td>\n",
       "      <td>1364</td>\n",
       "    </tr>\n",
       "    <tr>\n",
       "      <th>2</th>\n",
       "      <td>com.app.36257</td>\n",
       "      <td>2024-01-01</td>\n",
       "      <td>7511</td>\n",
       "    </tr>\n",
       "    <tr>\n",
       "      <th>3</th>\n",
       "      <td>com.app.88509</td>\n",
       "      <td>2024-01-01</td>\n",
       "      <td>53137</td>\n",
       "    </tr>\n",
       "    <tr>\n",
       "      <th>4</th>\n",
       "      <td>com.app.93131</td>\n",
       "      <td>2024-01-01</td>\n",
       "      <td>137</td>\n",
       "    </tr>\n",
       "  </tbody>\n",
       "</table>\n",
       "</div>"
      ],
      "text/plain": [
       "           appid       date  newinstalls\n",
       "0  com.app.86367 2024-01-01         1968\n",
       "1  com.app.18711 2024-01-01         1364\n",
       "2  com.app.36257 2024-01-01         7511\n",
       "3  com.app.88509 2024-01-01        53137\n",
       "4  com.app.93131 2024-01-01          137"
      ]
     },
     "execution_count": 218,
     "metadata": {},
     "output_type": "execute_result"
    }
   ],
   "source": [
    "df_instalacoes.head()"
   ]
  },
  {
   "cell_type": "markdown",
   "metadata": {},
   "source": [
    "**Checar tipos de dados.**\n",
    "\n",
    "Tudo certo aqui."
   ]
  },
  {
   "cell_type": "code",
   "execution_count": 219,
   "metadata": {},
   "outputs": [
    {
     "data": {
      "text/plain": [
       "appid                  object\n",
       "date           datetime64[ns]\n",
       "newinstalls             int64\n",
       "dtype: object"
      ]
     },
     "execution_count": 219,
     "metadata": {},
     "output_type": "execute_result"
    }
   ],
   "source": [
    "df_instalacoes.dtypes"
   ]
  },
  {
   "cell_type": "markdown",
   "metadata": {},
   "source": [
    "**Checar tamanho da base (linhas x colunas)**"
   ]
  },
  {
   "cell_type": "code",
   "execution_count": 220,
   "metadata": {},
   "outputs": [
    {
     "data": {
      "text/plain": [
       "(48150, 3)"
      ]
     },
     "execution_count": 220,
     "metadata": {},
     "output_type": "execute_result"
    }
   ],
   "source": [
    "df_instalacoes.shape"
   ]
  },
  {
   "cell_type": "markdown",
   "metadata": {},
   "source": [
    "**Checar possíveis dados duplicados**\n",
    "\n",
    "Semelhante ao DataFrame DAUMAU, o único estranho aqui são os 171 registros competamente duplicados, e para resolvê-los realizei um .drop_duplicates()"
   ]
  },
  {
   "cell_type": "code",
   "execution_count": 221,
   "metadata": {},
   "outputs": [
    {
     "name": "stdout",
     "output_type": "stream",
     "text": [
      "O DataFrame inteiro apresenta 171 registros completamente duplicados (linhas repetidas)!\n",
      "\n",
      "\n",
      "A coluna appid apresenta 47968 registros duplicados!\n",
      "\n",
      "\n",
      "A coluna date apresenta 47869 registros duplicados!\n",
      "\n",
      "\n",
      "A coluna newinstalls apresenta 36581 registros duplicados!\n",
      "\n",
      "\n"
     ]
    }
   ],
   "source": [
    "duplicated_report(df_instalacoes)"
   ]
  },
  {
   "cell_type": "code",
   "execution_count": 222,
   "metadata": {},
   "outputs": [
    {
     "data": {
      "text/html": [
       "<div>\n",
       "<style scoped>\n",
       "    .dataframe tbody tr th:only-of-type {\n",
       "        vertical-align: middle;\n",
       "    }\n",
       "\n",
       "    .dataframe tbody tr th {\n",
       "        vertical-align: top;\n",
       "    }\n",
       "\n",
       "    .dataframe thead th {\n",
       "        text-align: right;\n",
       "    }\n",
       "</style>\n",
       "<table border=\"1\" class=\"dataframe\">\n",
       "  <thead>\n",
       "    <tr style=\"text-align: right;\">\n",
       "      <th></th>\n",
       "      <th>appid</th>\n",
       "      <th>date</th>\n",
       "      <th>newinstalls</th>\n",
       "    </tr>\n",
       "  </thead>\n",
       "  <tbody>\n",
       "    <tr>\n",
       "      <th>27504</th>\n",
       "      <td>com.app.99432</td>\n",
       "      <td>2024-08-19</td>\n",
       "      <td>9307</td>\n",
       "    </tr>\n",
       "    <tr>\n",
       "      <th>27675</th>\n",
       "      <td>com.app.99432</td>\n",
       "      <td>2024-08-19</td>\n",
       "      <td>9307</td>\n",
       "    </tr>\n",
       "    <tr>\n",
       "      <th>27639</th>\n",
       "      <td>com.app.98198</td>\n",
       "      <td>2024-08-19</td>\n",
       "      <td>23</td>\n",
       "    </tr>\n",
       "    <tr>\n",
       "      <th>27810</th>\n",
       "      <td>com.app.98198</td>\n",
       "      <td>2024-08-19</td>\n",
       "      <td>23</td>\n",
       "    </tr>\n",
       "    <tr>\n",
       "      <th>27538</th>\n",
       "      <td>com.app.97988</td>\n",
       "      <td>2024-08-19</td>\n",
       "      <td>109</td>\n",
       "    </tr>\n",
       "    <tr>\n",
       "      <th>...</th>\n",
       "      <td>...</td>\n",
       "      <td>...</td>\n",
       "      <td>...</td>\n",
       "    </tr>\n",
       "    <tr>\n",
       "      <th>27548</th>\n",
       "      <td>com.app.13421</td>\n",
       "      <td>2024-08-19</td>\n",
       "      <td>2626</td>\n",
       "    </tr>\n",
       "    <tr>\n",
       "      <th>27726</th>\n",
       "      <td>com.app.13071</td>\n",
       "      <td>2024-08-19</td>\n",
       "      <td>41</td>\n",
       "    </tr>\n",
       "    <tr>\n",
       "      <th>27555</th>\n",
       "      <td>com.app.13071</td>\n",
       "      <td>2024-08-19</td>\n",
       "      <td>41</td>\n",
       "    </tr>\n",
       "    <tr>\n",
       "      <th>27790</th>\n",
       "      <td>com.app.10626</td>\n",
       "      <td>2024-08-19</td>\n",
       "      <td>4727</td>\n",
       "    </tr>\n",
       "    <tr>\n",
       "      <th>27619</th>\n",
       "      <td>com.app.10626</td>\n",
       "      <td>2024-08-19</td>\n",
       "      <td>4727</td>\n",
       "    </tr>\n",
       "  </tbody>\n",
       "</table>\n",
       "<p>342 rows × 3 columns</p>\n",
       "</div>"
      ],
      "text/plain": [
       "               appid       date  newinstalls\n",
       "27504  com.app.99432 2024-08-19         9307\n",
       "27675  com.app.99432 2024-08-19         9307\n",
       "27639  com.app.98198 2024-08-19           23\n",
       "27810  com.app.98198 2024-08-19           23\n",
       "27538  com.app.97988 2024-08-19          109\n",
       "...              ...        ...          ...\n",
       "27548  com.app.13421 2024-08-19         2626\n",
       "27726  com.app.13071 2024-08-19           41\n",
       "27555  com.app.13071 2024-08-19           41\n",
       "27790  com.app.10626 2024-08-19         4727\n",
       "27619  com.app.10626 2024-08-19         4727\n",
       "\n",
       "[342 rows x 3 columns]"
      ]
     },
     "execution_count": 222,
     "metadata": {},
     "output_type": "execute_result"
    }
   ],
   "source": [
    "df_instalacoes.loc[\n",
    "    df_instalacoes.duplicated(keep=False)\n",
    "].sort_values(by='appid', ascending=False)"
   ]
  },
  {
   "cell_type": "code",
   "execution_count": 223,
   "metadata": {},
   "outputs": [],
   "source": [
    "df_instalacoes = df_instalacoes.drop_duplicates()"
   ]
  },
  {
   "cell_type": "markdown",
   "metadata": {},
   "source": [
    "**Checar dados nulos**"
   ]
  },
  {
   "cell_type": "code",
   "execution_count": 224,
   "metadata": {},
   "outputs": [
    {
     "data": {
      "text/plain": [
       "appid          0\n",
       "date           0\n",
       "newinstalls    0\n",
       "dtype: int64"
      ]
     },
     "execution_count": 224,
     "metadata": {},
     "output_type": "execute_result"
    }
   ],
   "source": [
    "df_instalacoes.isna().sum()"
   ]
  },
  {
   "cell_type": "markdown",
   "metadata": {},
   "source": [
    "## 2.4 DataFrame Reviews"
   ]
  },
  {
   "cell_type": "markdown",
   "metadata": {},
   "source": [
    "**Visualização rápida das primeiras linhas da base.**\n",
    "\n",
    "- **category**: categoria do app.\n",
    "- **ratings**: quantidade de notas acumuladas que os usuários deram.\n",
    "- **daily_ratings**: me parece a quantidade de notas naquela *data* específica (daily).\n",
    "- **reviews**: quantidade de avaliações que os usuários deram.\n",
    "- **daily_reviews**: também me parece a quantidade de avaliações acumuladas naquela *data* específica."
   ]
  },
  {
   "cell_type": "code",
   "execution_count": 225,
   "metadata": {},
   "outputs": [
    {
     "data": {
      "text/html": [
       "<div>\n",
       "<style scoped>\n",
       "    .dataframe tbody tr th:only-of-type {\n",
       "        vertical-align: middle;\n",
       "    }\n",
       "\n",
       "    .dataframe tbody tr th {\n",
       "        vertical-align: top;\n",
       "    }\n",
       "\n",
       "    .dataframe thead th {\n",
       "        text-align: right;\n",
       "    }\n",
       "</style>\n",
       "<table border=\"1\" class=\"dataframe\">\n",
       "  <thead>\n",
       "    <tr style=\"text-align: right;\">\n",
       "      <th></th>\n",
       "      <th>date</th>\n",
       "      <th>appid</th>\n",
       "      <th>category</th>\n",
       "      <th>ratings</th>\n",
       "      <th>daily_ratings</th>\n",
       "      <th>reviews</th>\n",
       "      <th>daily_reviews</th>\n",
       "    </tr>\n",
       "  </thead>\n",
       "  <tbody>\n",
       "    <tr>\n",
       "      <th>0</th>\n",
       "      <td>2024-01-01</td>\n",
       "      <td>com.app.40009</td>\n",
       "      <td>OTHERS</td>\n",
       "      <td>63500.0</td>\n",
       "      <td>5.0</td>\n",
       "      <td>25251.0</td>\n",
       "      <td>0.0</td>\n",
       "    </tr>\n",
       "    <tr>\n",
       "      <th>1</th>\n",
       "      <td>2024-01-01</td>\n",
       "      <td>com.app.88516</td>\n",
       "      <td>OTHERS</td>\n",
       "      <td>2440.0</td>\n",
       "      <td>0.0</td>\n",
       "      <td>312.0</td>\n",
       "      <td>0.0</td>\n",
       "    </tr>\n",
       "    <tr>\n",
       "      <th>2</th>\n",
       "      <td>2024-01-01</td>\n",
       "      <td>com.app.64634</td>\n",
       "      <td>TRAVEL_AND_LOCAL</td>\n",
       "      <td>536.0</td>\n",
       "      <td>0.0</td>\n",
       "      <td>331.0</td>\n",
       "      <td>0.0</td>\n",
       "    </tr>\n",
       "    <tr>\n",
       "      <th>3</th>\n",
       "      <td>2024-01-01</td>\n",
       "      <td>com.app.78470</td>\n",
       "      <td>SHOPPING</td>\n",
       "      <td>97924.0</td>\n",
       "      <td>7.0</td>\n",
       "      <td>27241.0</td>\n",
       "      <td>23.0</td>\n",
       "    </tr>\n",
       "    <tr>\n",
       "      <th>4</th>\n",
       "      <td>2024-01-01</td>\n",
       "      <td>com.app.36433</td>\n",
       "      <td>FINANCE</td>\n",
       "      <td>678.0</td>\n",
       "      <td>0.0</td>\n",
       "      <td>414.0</td>\n",
       "      <td>0.0</td>\n",
       "    </tr>\n",
       "  </tbody>\n",
       "</table>\n",
       "</div>"
      ],
      "text/plain": [
       "         date          appid          category  ratings  daily_ratings  \\\n",
       "0  2024-01-01  com.app.40009            OTHERS  63500.0            5.0   \n",
       "1  2024-01-01  com.app.88516            OTHERS   2440.0            0.0   \n",
       "2  2024-01-01  com.app.64634  TRAVEL_AND_LOCAL    536.0            0.0   \n",
       "3  2024-01-01  com.app.78470          SHOPPING  97924.0            7.0   \n",
       "4  2024-01-01  com.app.36433           FINANCE    678.0            0.0   \n",
       "\n",
       "   reviews  daily_reviews  \n",
       "0  25251.0            0.0  \n",
       "1    312.0            0.0  \n",
       "2    331.0            0.0  \n",
       "3  27241.0           23.0  \n",
       "4    414.0            0.0  "
      ]
     },
     "execution_count": 225,
     "metadata": {},
     "output_type": "execute_result"
    }
   ],
   "source": [
    "df_reviews.head()"
   ]
  },
  {
   "cell_type": "markdown",
   "metadata": {},
   "source": [
    "**Checar tipos de dados.**"
   ]
  },
  {
   "cell_type": "code",
   "execution_count": 226,
   "metadata": {},
   "outputs": [
    {
     "data": {
      "text/plain": [
       "date              object\n",
       "appid             object\n",
       "category          object\n",
       "ratings          float64\n",
       "daily_ratings    float64\n",
       "reviews          float64\n",
       "daily_reviews    float64\n",
       "dtype: object"
      ]
     },
     "execution_count": 226,
     "metadata": {},
     "output_type": "execute_result"
    }
   ],
   "source": [
    "df_reviews.dtypes"
   ]
  },
  {
   "cell_type": "code",
   "execution_count": 227,
   "metadata": {},
   "outputs": [],
   "source": [
    "df_reviews[\"date\"] = pd.to_datetime(df_reviews[\"date\"])"
   ]
  },
  {
   "cell_type": "markdown",
   "metadata": {},
   "source": [
    "**Checar tamanho da base (linhas x colunas)**"
   ]
  },
  {
   "cell_type": "code",
   "execution_count": 228,
   "metadata": {},
   "outputs": [
    {
     "data": {
      "text/plain": [
       "(47155, 7)"
      ]
     },
     "execution_count": 228,
     "metadata": {},
     "output_type": "execute_result"
    }
   ],
   "source": [
    "df_reviews.shape"
   ]
  },
  {
   "cell_type": "markdown",
   "metadata": {},
   "source": [
    "**Checar possíveis dados duplicados**\n",
    "\n",
    "Nenhum registro completo duplicado.\n",
    "\n",
    "Porém, o fato da coluna appid ter linhas duplicados me chamou atenção nessa tabela, e eu logo descobri o significado real de cada coluna. A coluna **ratings** e **reviews** são basicamente uma soma acumulada de acordo com que a data vai aumentando, e as colunas **daily_ratings** e **daily_reviews** são os valores acrescentados a essas somas dia após dia. Faz total sentido."
   ]
  },
  {
   "cell_type": "code",
   "execution_count": 229,
   "metadata": {},
   "outputs": [
    {
     "name": "stdout",
     "output_type": "stream",
     "text": [
      "O DataFrame inteiro não apresenta nenhum registro duplicado.\n",
      "\n",
      "\n",
      "A coluna date apresenta 46881 registros duplicados!\n",
      "\n",
      "\n",
      "A coluna appid apresenta 46973 registros duplicados!\n",
      "\n",
      "\n",
      "A coluna category apresenta 47149 registros duplicados!\n",
      "\n",
      "\n",
      "A coluna ratings apresenta 12171 registros duplicados!\n",
      "\n",
      "\n",
      "A coluna daily_ratings apresenta 45003 registros duplicados!\n",
      "\n",
      "\n",
      "A coluna reviews apresenta 19690 registros duplicados!\n",
      "\n",
      "\n",
      "A coluna daily_reviews apresenta 46559 registros duplicados!\n",
      "\n",
      "\n"
     ]
    }
   ],
   "source": [
    "duplicated_report(df_reviews)"
   ]
  },
  {
   "cell_type": "code",
   "execution_count": 230,
   "metadata": {},
   "outputs": [
    {
     "data": {
      "text/html": [
       "<div>\n",
       "<style scoped>\n",
       "    .dataframe tbody tr th:only-of-type {\n",
       "        vertical-align: middle;\n",
       "    }\n",
       "\n",
       "    .dataframe tbody tr th {\n",
       "        vertical-align: top;\n",
       "    }\n",
       "\n",
       "    .dataframe thead th {\n",
       "        text-align: right;\n",
       "    }\n",
       "</style>\n",
       "<table border=\"1\" class=\"dataframe\">\n",
       "  <thead>\n",
       "    <tr style=\"text-align: right;\">\n",
       "      <th></th>\n",
       "      <th>date</th>\n",
       "      <th>appid</th>\n",
       "      <th>category</th>\n",
       "      <th>ratings</th>\n",
       "      <th>daily_ratings</th>\n",
       "      <th>reviews</th>\n",
       "      <th>daily_reviews</th>\n",
       "    </tr>\n",
       "  </thead>\n",
       "  <tbody>\n",
       "    <tr>\n",
       "      <th>39</th>\n",
       "      <td>2024-01-01</td>\n",
       "      <td>com.app.99432</td>\n",
       "      <td>BUSINESS</td>\n",
       "      <td>245095.0</td>\n",
       "      <td>6.0</td>\n",
       "      <td>138531.0</td>\n",
       "      <td>17.0</td>\n",
       "    </tr>\n",
       "    <tr>\n",
       "      <th>281</th>\n",
       "      <td>2024-01-02</td>\n",
       "      <td>com.app.99432</td>\n",
       "      <td>BUSINESS</td>\n",
       "      <td>245101.0</td>\n",
       "      <td>23.0</td>\n",
       "      <td>138548.0</td>\n",
       "      <td>39.0</td>\n",
       "    </tr>\n",
       "    <tr>\n",
       "      <th>424</th>\n",
       "      <td>2024-01-03</td>\n",
       "      <td>com.app.99432</td>\n",
       "      <td>BUSINESS</td>\n",
       "      <td>245124.0</td>\n",
       "      <td>87.0</td>\n",
       "      <td>138587.0</td>\n",
       "      <td>40.0</td>\n",
       "    </tr>\n",
       "    <tr>\n",
       "      <th>567</th>\n",
       "      <td>2024-01-04</td>\n",
       "      <td>com.app.99432</td>\n",
       "      <td>BUSINESS</td>\n",
       "      <td>245211.0</td>\n",
       "      <td>65.0</td>\n",
       "      <td>138627.0</td>\n",
       "      <td>11.0</td>\n",
       "    </tr>\n",
       "    <tr>\n",
       "      <th>806</th>\n",
       "      <td>2024-01-05</td>\n",
       "      <td>com.app.99432</td>\n",
       "      <td>BUSINESS</td>\n",
       "      <td>245276.0</td>\n",
       "      <td>42.0</td>\n",
       "      <td>138638.0</td>\n",
       "      <td>25.0</td>\n",
       "    </tr>\n",
       "    <tr>\n",
       "      <th>1015</th>\n",
       "      <td>2024-01-06</td>\n",
       "      <td>com.app.99432</td>\n",
       "      <td>BUSINESS</td>\n",
       "      <td>245318.0</td>\n",
       "      <td>63.0</td>\n",
       "      <td>138663.0</td>\n",
       "      <td>23.0</td>\n",
       "    </tr>\n",
       "    <tr>\n",
       "      <th>1142</th>\n",
       "      <td>2024-01-07</td>\n",
       "      <td>com.app.99432</td>\n",
       "      <td>BUSINESS</td>\n",
       "      <td>245381.0</td>\n",
       "      <td>3.0</td>\n",
       "      <td>138686.0</td>\n",
       "      <td>28.0</td>\n",
       "    </tr>\n",
       "    <tr>\n",
       "      <th>1244</th>\n",
       "      <td>2024-01-08</td>\n",
       "      <td>com.app.99432</td>\n",
       "      <td>BUSINESS</td>\n",
       "      <td>245384.0</td>\n",
       "      <td>71.0</td>\n",
       "      <td>138714.0</td>\n",
       "      <td>25.0</td>\n",
       "    </tr>\n",
       "    <tr>\n",
       "      <th>1509</th>\n",
       "      <td>2024-01-09</td>\n",
       "      <td>com.app.99432</td>\n",
       "      <td>BUSINESS</td>\n",
       "      <td>245455.0</td>\n",
       "      <td>33.0</td>\n",
       "      <td>138739.0</td>\n",
       "      <td>15.0</td>\n",
       "    </tr>\n",
       "    <tr>\n",
       "      <th>1559</th>\n",
       "      <td>2024-01-10</td>\n",
       "      <td>com.app.99432</td>\n",
       "      <td>BUSINESS</td>\n",
       "      <td>245488.0</td>\n",
       "      <td>49.0</td>\n",
       "      <td>138754.0</td>\n",
       "      <td>30.0</td>\n",
       "    </tr>\n",
       "  </tbody>\n",
       "</table>\n",
       "</div>"
      ],
      "text/plain": [
       "           date          appid  category   ratings  daily_ratings   reviews  \\\n",
       "39   2024-01-01  com.app.99432  BUSINESS  245095.0            6.0  138531.0   \n",
       "281  2024-01-02  com.app.99432  BUSINESS  245101.0           23.0  138548.0   \n",
       "424  2024-01-03  com.app.99432  BUSINESS  245124.0           87.0  138587.0   \n",
       "567  2024-01-04  com.app.99432  BUSINESS  245211.0           65.0  138627.0   \n",
       "806  2024-01-05  com.app.99432  BUSINESS  245276.0           42.0  138638.0   \n",
       "1015 2024-01-06  com.app.99432  BUSINESS  245318.0           63.0  138663.0   \n",
       "1142 2024-01-07  com.app.99432  BUSINESS  245381.0            3.0  138686.0   \n",
       "1244 2024-01-08  com.app.99432  BUSINESS  245384.0           71.0  138714.0   \n",
       "1509 2024-01-09  com.app.99432  BUSINESS  245455.0           33.0  138739.0   \n",
       "1559 2024-01-10  com.app.99432  BUSINESS  245488.0           49.0  138754.0   \n",
       "\n",
       "      daily_reviews  \n",
       "39             17.0  \n",
       "281            39.0  \n",
       "424            40.0  \n",
       "567            11.0  \n",
       "806            25.0  \n",
       "1015           23.0  \n",
       "1142           28.0  \n",
       "1244           25.0  \n",
       "1509           15.0  \n",
       "1559           30.0  "
      ]
     },
     "execution_count": 230,
     "metadata": {},
     "output_type": "execute_result"
    }
   ],
   "source": [
    "df_reviews.loc[\n",
    "    df_reviews['appid']=='com.app.99432'\n",
    "].sort_values(by='date', ascending=True).head(10)"
   ]
  },
  {
   "cell_type": "markdown",
   "metadata": {},
   "source": [
    "**Checar dados nulos**\n",
    "\n",
    "Nenhum dado nulo."
   ]
  },
  {
   "cell_type": "code",
   "execution_count": 231,
   "metadata": {},
   "outputs": [
    {
     "data": {
      "text/plain": [
       "date             0\n",
       "appid            0\n",
       "category         0\n",
       "ratings          0\n",
       "daily_ratings    0\n",
       "reviews          0\n",
       "daily_reviews    0\n",
       "dtype: int64"
      ]
     },
     "execution_count": 231,
     "metadata": {},
     "output_type": "execute_result"
    }
   ],
   "source": [
    "df_reviews.isna().sum()"
   ]
  },
  {
   "cell_type": "markdown",
   "metadata": {},
   "source": [
    "# 3.0 Join e Exploração dos Dados\n",
    "\n",
    "Nessa seção, meu objetivo é entender melhor os valores de cada coluna, numa visão mais específica."
   ]
  },
  {
   "cell_type": "code",
   "execution_count": 232,
   "metadata": {},
   "outputs": [],
   "source": [
    "df_instalacoes = df_instalacoes.rename(\n",
    "    columns = {\n",
    "        \"appid\": \"appId\"\n",
    "    }\n",
    ")\n",
    "\n",
    "df_reviews = df_reviews.rename(\n",
    "    columns = {\n",
    "        \"appid\": \"appId\"\n",
    "    }\n",
    ")\n",
    "\n",
    "# Junção de todas as tabelas numa só, a fim de conseguir analisar melhor o fenômeno como um todo\n",
    "df_completo = (\n",
    "    df_daumau\n",
    "    .merge(df_desinstalacoes, how='left', on=['appId','date'])\n",
    "    .merge(df_instalacoes, how='left', on=['appId','date'])\n",
    "    .merge(df_reviews, how='left', on=['appId','date'])\n",
    ")"
   ]
  },
  {
   "cell_type": "markdown",
   "metadata": {},
   "source": [
    "As colunas *lang* e *country* só tem um valor que são **pt** e **br** respectivamente, logo não agregam valor nenhum para a análise"
   ]
  },
  {
   "cell_type": "code",
   "execution_count": 233,
   "metadata": {},
   "outputs": [],
   "source": [
    "df_completo = df_completo.drop(\n",
    "    columns = [\"lang\",\"country\"]\n",
    ")"
   ]
  },
  {
   "cell_type": "markdown",
   "metadata": {},
   "source": [
    "Existem alguns apps que tem valores nulos na coluna *category* em determinada data, porém em outras esse valor está preenchido para o mesmo app.\n",
    "\n",
    "Como só existe uma categoria por aplicativo, eu substituo esses valores nulos pela categoria já existente em outra data para esse mesmo aplicativo."
   ]
  },
  {
   "cell_type": "code",
   "execution_count": 234,
   "metadata": {},
   "outputs": [],
   "source": [
    "df_not_null_categories = (\n",
    "    df_completo\n",
    "    .dropna(subset=['category'])\n",
    "    .drop_duplicates(subset=['appId'])\n",
    "    [['appId', 'category']]\n",
    "    .rename(columns={'category': 'categoria_nao_nula'})\n",
    ")\n",
    "\n",
    "df_completo = df_completo.merge(df_not_null_categories, how='left', on='appId')\n",
    "\n",
    "df_completo['category'] = df_completo.apply(\n",
    "    lambda x: x['categoria_nao_nula'] if pd.isna(x['category']) else x['category'], \n",
    "    axis=1\n",
    ")\n",
    "\n",
    "df_completo = df_completo.drop(\n",
    "    columns = ['categoria_nao_nula']\n",
    ")"
   ]
  },
  {
   "cell_type": "markdown",
   "metadata": {},
   "source": [
    "## 3.1 Análise Univariada"
   ]
  },
  {
   "cell_type": "markdown",
   "metadata": {},
   "source": [
    "### 3.1.1 *date*\n",
    "\n",
    "Seleciono só os registros com ano igual a 2024, pois os restantes são outliers"
   ]
  },
  {
   "cell_type": "code",
   "execution_count": 235,
   "metadata": {},
   "outputs": [],
   "source": [
    "df_completo['year'] = pd.to_datetime(df_completo['date']).dt.year"
   ]
  },
  {
   "cell_type": "code",
   "execution_count": 236,
   "metadata": {},
   "outputs": [
    {
     "data": {
      "text/plain": [
       "year\n",
       "2024    41025\n",
       "2220       31\n",
       "2044       17\n",
       "1912       14\n",
       "1980       11\n",
       "Name: count, dtype: int64"
      ]
     },
     "execution_count": 236,
     "metadata": {},
     "output_type": "execute_result"
    }
   ],
   "source": [
    "df_completo['year'].value_counts()"
   ]
  },
  {
   "cell_type": "code",
   "execution_count": 237,
   "metadata": {},
   "outputs": [],
   "source": [
    "df_completo = df_completo.loc[df_completo['year'] == 2024]"
   ]
  },
  {
   "cell_type": "markdown",
   "metadata": {},
   "source": [
    "### 3.1.2 *dauReal*"
   ]
  },
  {
   "cell_type": "code",
   "execution_count": 238,
   "metadata": {},
   "outputs": [
    {
     "name": "stdout",
     "output_type": "stream",
     "text": [
      "count        41,025.00\n",
      "mean        438,101.45\n",
      "std       1,333,475.55\n",
      "min               0.00\n",
      "25%           8,443.00\n",
      "50%          30,689.00\n",
      "75%         161,437.00\n",
      "max      10,648,152.00\n",
      "Name: dauReal, dtype: object\n"
     ]
    }
   ],
   "source": [
    "estatistica_descritiva(\n",
    "    df = df_completo,\n",
    "    column = \"dauReal\"\n",
    ")"
   ]
  },
  {
   "cell_type": "markdown",
   "metadata": {},
   "source": [
    "### 3.1.3 *mauReal*"
   ]
  },
  {
   "cell_type": "code",
   "execution_count": 239,
   "metadata": {},
   "outputs": [
    {
     "name": "stdout",
     "output_type": "stream",
     "text": [
      "count        41,025.00\n",
      "mean      1,912,790.61\n",
      "std       4,787,506.69\n",
      "min             750.00\n",
      "25%          77,904.00\n",
      "50%         230,904.00\n",
      "75%         859,553.00\n",
      "max      29,605,840.00\n",
      "Name: mauReal, dtype: object\n"
     ]
    }
   ],
   "source": [
    "estatistica_descritiva(\n",
    "    df = df_completo,\n",
    "    column = \"mauReal\"\n",
    ")"
   ]
  },
  {
   "cell_type": "markdown",
   "metadata": {},
   "source": [
    "### 3.1.4 *predictionLoss*"
   ]
  },
  {
   "cell_type": "code",
   "execution_count": 240,
   "metadata": {},
   "outputs": [
    {
     "name": "stdout",
     "output_type": "stream",
     "text": [
      "count     40,898.00\n",
      "mean      12,502.70\n",
      "std       23,789.10\n",
      "min          455.00\n",
      "25%        1,777.00\n",
      "50%        3,945.50\n",
      "75%        9,457.00\n",
      "max      189,683.00\n",
      "Name: predictionLoss, dtype: object\n"
     ]
    }
   ],
   "source": [
    "estatistica_descritiva(\n",
    "    df = df_completo,\n",
    "    column = \"predictionLoss\"\n",
    ")"
   ]
  },
  {
   "cell_type": "markdown",
   "metadata": {},
   "source": [
    "### 3.1.5 *newinstalls*"
   ]
  },
  {
   "cell_type": "code",
   "execution_count": 241,
   "metadata": {},
   "outputs": [
    {
     "name": "stdout",
     "output_type": "stream",
     "text": [
      "count    38,376.00\n",
      "mean      4,018.21\n",
      "std       8,348.47\n",
      "min           0.00\n",
      "25%         324.00\n",
      "50%         948.50\n",
      "75%       3,096.00\n",
      "max      71,825.00\n",
      "Name: newinstalls, dtype: object\n"
     ]
    }
   ],
   "source": [
    "estatistica_descritiva(\n",
    "    df = df_completo,\n",
    "    column = \"newinstalls\"\n",
    ")"
   ]
  },
  {
   "cell_type": "markdown",
   "metadata": {},
   "source": [
    "### 3.1.6 *category*"
   ]
  },
  {
   "cell_type": "code",
   "execution_count": 242,
   "metadata": {},
   "outputs": [
    {
     "data": {
      "text/plain": [
       "category\n",
       "FINANCE             15718\n",
       "OTHERS               9498\n",
       "SHOPPING             7144\n",
       "BUSINESS             3599\n",
       "TRAVEL_AND_LOCAL     2585\n",
       "FOOD_AND_DRINK       1333\n",
       "Name: count, dtype: int64"
      ]
     },
     "execution_count": 242,
     "metadata": {},
     "output_type": "execute_result"
    }
   ],
   "source": [
    "df_completo['category'].value_counts()"
   ]
  },
  {
   "cell_type": "markdown",
   "metadata": {},
   "source": [
    "### 3.1.7 *ratings*"
   ]
  },
  {
   "cell_type": "code",
   "execution_count": 243,
   "metadata": {},
   "outputs": [
    {
     "name": "stdout",
     "output_type": "stream",
     "text": [
      "count        38,815.00\n",
      "mean        311,577.09\n",
      "std         783,283.10\n",
      "min              19.00\n",
      "25%           9,403.00\n",
      "50%          50,430.00\n",
      "75%         208,433.00\n",
      "max      13,214,326.00\n",
      "Name: ratings, dtype: object\n"
     ]
    }
   ],
   "source": [
    "estatistica_descritiva(\n",
    "    df = df_completo,\n",
    "    column = \"ratings\"\n",
    ")"
   ]
  },
  {
   "cell_type": "markdown",
   "metadata": {},
   "source": [
    "### 3.1.8 *daily_ratings*\n",
    "\n",
    "Percebo aqui que existem daily ratings negativos, o que com certeza é um outlier. Portanto tiramos do DataFrame."
   ]
  },
  {
   "cell_type": "code",
   "execution_count": 244,
   "metadata": {},
   "outputs": [
    {
     "name": "stdout",
     "output_type": "stream",
     "text": [
      "count    38,815.00\n",
      "mean        147.53\n",
      "std         396.39\n",
      "min         -86.00\n",
      "25%           2.00\n",
      "50%          14.00\n",
      "75%          83.00\n",
      "max       6,353.00\n",
      "Name: daily_ratings, dtype: object\n"
     ]
    }
   ],
   "source": [
    "estatistica_descritiva(\n",
    "    df = df_completo,\n",
    "    column = \"daily_ratings\"\n",
    ")"
   ]
  },
  {
   "cell_type": "code",
   "execution_count": 245,
   "metadata": {},
   "outputs": [],
   "source": [
    "df_completo = df_completo.loc[df_completo['daily_ratings'] >= 0]"
   ]
  },
  {
   "cell_type": "markdown",
   "metadata": {},
   "source": [
    "### 3.1.9 *reviews*"
   ]
  },
  {
   "cell_type": "code",
   "execution_count": 246,
   "metadata": {},
   "outputs": [
    {
     "name": "stdout",
     "output_type": "stream",
     "text": [
      "count       38,404.00\n",
      "mean        91,343.41\n",
      "std        219,704.94\n",
      "min             11.00\n",
      "25%          3,328.00\n",
      "50%         15,625.50\n",
      "75%         57,125.50\n",
      "max      1,491,128.00\n",
      "Name: reviews, dtype: object\n"
     ]
    }
   ],
   "source": [
    "estatistica_descritiva(\n",
    "    df = df_completo,\n",
    "    column = \"reviews\"\n",
    ")"
   ]
  },
  {
   "cell_type": "markdown",
   "metadata": {},
   "source": [
    "### 3.1.10 *daily_reviews*\n",
    "\n",
    "Existência de reviews negativas, também considero como outliers e filtro para fora do DataFrame."
   ]
  },
  {
   "cell_type": "code",
   "execution_count": 247,
   "metadata": {},
   "outputs": [
    {
     "name": "stdout",
     "output_type": "stream",
     "text": [
      "count    38,404.00\n",
      "mean         20.73\n",
      "std          53.64\n",
      "min         -19.00\n",
      "25%           1.00\n",
      "50%           3.00\n",
      "75%          14.00\n",
      "max       1,808.00\n",
      "Name: daily_reviews, dtype: object\n"
     ]
    }
   ],
   "source": [
    "estatistica_descritiva(\n",
    "    df = df_completo,\n",
    "    column = \"daily_reviews\"\n",
    ")"
   ]
  },
  {
   "cell_type": "code",
   "execution_count": 248,
   "metadata": {},
   "outputs": [],
   "source": [
    "df_completo = df_completo.loc[df_completo['daily_reviews'] >= 0]"
   ]
  },
  {
   "cell_type": "markdown",
   "metadata": {},
   "source": [
    "## 3.2 Análise Bivariada\n",
    "\n",
    "Nessa seção busco correlações entre variáveis para começar a entender quais são mais explicativas para o fenômeno que buscamos modelar. \n",
    "\n",
    "Podemos ver que **ratings** e **reviews** são altamente correlacionadas com os usuários diários ativos, portanto podem ser features muito interessantes."
   ]
  },
  {
   "cell_type": "code",
   "execution_count": 249,
   "metadata": {},
   "outputs": [],
   "source": [
    "df_numeric = df_completo.select_dtypes(include=[\"number\"])\n",
    "\n",
    "correlation_matrix = df_numeric.corr(method='pearson')"
   ]
  },
  {
   "cell_type": "code",
   "execution_count": 250,
   "metadata": {},
   "outputs": [
    {
     "data": {
      "image/png": "[encoded data removed]",
      "text/plain": [
       "<Figure size 800x600 with 2 Axes>"
      ]
     },
     "metadata": {},
     "output_type": "display_data"
    }
   ],
   "source": [
    "plt.figure(figsize=(8, 6))\n",
    "sns.heatmap(correlation_matrix, annot=True, cmap='coolwarm', fmt=\".2f\")\n",
    "plt.xticks(rotation=45)\n",
    "plt.title(\"Correlação de Pearson\")\n",
    "plt.show()"
   ]
  },
  {
   "cell_type": "markdown",
   "metadata": {},
   "source": [
    "# 4.0 Carregamento dos Dados\n",
    "\n",
    "Com os dados ordenados por data, separo 10% do conjunto para teste no notebook 3, e o restante fica para treino e validação."
   ]
  },
  {
   "cell_type": "code",
   "execution_count": 251,
   "metadata": {},
   "outputs": [],
   "source": [
    "df_completo = df_completo.sort_values(by=[\"appId\", \"date\"])"
   ]
  },
  {
   "cell_type": "code",
   "execution_count": 252,
   "metadata": {},
   "outputs": [],
   "source": [
    "train_val_size = 0.9\n",
    "test_size = 0.1\n",
    "\n",
    "n = len(df_completo)\n",
    "train_val_end = int(train_val_size * n)\n",
    "\n",
    "df_train_val = df_completo.iloc[:train_val_end]\n",
    "\n",
    "df_test = df_completo.iloc[train_val_end:]"
   ]
  },
  {
   "cell_type": "code",
   "execution_count": 253,
   "metadata": {},
   "outputs": [],
   "source": [
    "df_train_val.to_csv('../data/cleaned_data_for_modelling.csv', index=False)\n",
    "df_test.to_csv('../data/test_data.csv', index=False)"
   ]
  }
 ],
 "metadata": {
  "kernelspec": {
   "display_name": "Python 3",
   "language": "python",
   "name": "python3"
  },
  "language_info": {
   "codemirror_mode": {
    "name": "ipython",
    "version": 3
   },
   "file_extension": ".py",
   "mimetype": "text/x-python",
   "name": "python",
   "nbconvert_exporter": "python",
   "pygments_lexer": "ipython3",
   "version": "3.10.12"
  }
 },
 "nbformat": 4,
 "nbformat_minor": 2
}
